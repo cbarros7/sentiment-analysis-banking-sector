{
 "cells": [
  {
   "cell_type": "markdown",
   "metadata": {},
   "source": [
    "# Sentiment Analysis in the banking sector using Twitter API, AWS Comprehend and AWS SageMaker"
   ]
  },
  {
   "cell_type": "code",
   "execution_count": 33,
   "metadata": {},
   "outputs": [],
   "source": [
    "from IPython.display import Image\n",
    "from IPython.core.display import HTML"
   ]
  },
  {
   "cell_type": "markdown",
   "metadata": {},
   "source": [
    "## INTRODUCTION\n",
    "The main objective of this article is to share the main findings about sentiment analysis in the banking sector using the Twitter API, AWS Comprehend and AWS SageMaker. \n",
    "\n",
    "Having said that, it is important to highlight that this study has taken 3 Colombian banks, the data was generated from the Twitter API, from the Jupyter Notebook of AWS SageMarker, with specific hashtags for each of these banks, thus generating all the information corresponding to customer feedback. After that, AWS Comprehend was used to analyze the input data (API) using the power of NLP algorithms to extract key phrases, entities and feelings automatically **(SEE FIGURE 1)** . Because these AWS models are pre-trained, it was possible to classify each comment into three totally different scores: positive, negative and neutral. \n",
    "\n",
    "In the same sense, the questions posed for the analysis were\n",
    "* Which bank has the highest number of tweets?\n",
    "* What is the customer's perception of the city where the bank is headquartered?\n",
    "* What is the perception of the clients classified by city?\n",
    "\n",
    "\n",
    "**Note**: *The source code is from AWS (see references), for practical exercises some modifications have been made.*"
   ]
  },
  {
   "cell_type": "code",
   "execution_count": 34,
   "metadata": {},
   "outputs": [
    {
     "data": {
      "text/html": [
       "<img src=\"https://s3.amazonaws.com/public-ps-datasets/comprehend.png\"/>"
      ],
      "text/plain": [
       "<IPython.core.display.Image object>"
      ]
     },
     "execution_count": 34,
     "metadata": {},
     "output_type": "execute_result"
    }
   ],
   "source": [
    "Image(url= \"https://s3.amazonaws.com/public-ps-datasets/comprehend.png\")"
   ]
  },
  {
   "cell_type": "markdown",
   "metadata": {},
   "source": [
    "## Import libraries"
   ]
  },
  {
   "cell_type": "code",
   "execution_count": 35,
   "metadata": {},
   "outputs": [],
   "source": [
    "# Import libraries\n",
    "import pandas as pd\n",
    "from collections import OrderedDict\n",
    "import requests\n",
    "from bs4 import BeautifulSoup\n",
    "import matplotlib.pyplot as plt\n"
   ]
  },
  {
   "cell_type": "markdown",
   "metadata": {},
   "source": [
    "\n",
    "### Connect to comprehend API using boto3.\n"
   ]
  },
  {
   "cell_type": "code",
   "execution_count": 36,
   "metadata": {},
   "outputs": [],
   "source": [
    "import boto3\n",
    "comprehend = boto3.client('comprehend', region_name='us-east-1')"
   ]
  },
  {
   "cell_type": "code",
   "execution_count": 37,
   "metadata": {},
   "outputs": [],
   "source": [
    "sample_tweet=\"It’s always a great day when I can randomly put my equestrian knowledge to good use at work! #AWS #BePeculiar\"   \n",
    "\n",
    "# Key phrases\n",
    "phrases = comprehend.detect_key_phrases(Text=sample_tweet, LanguageCode='en')\n",
    "\n",
    "# Entities\n",
    "entities = comprehend.detect_entities(Text=sample_tweet, LanguageCode='en')\n",
    "\n",
    "#Sentiments\n",
    "sentiments = comprehend.detect_sentiment(Text=sample_tweet, LanguageCode='en')"
   ]
  },
  {
   "cell_type": "code",
   "execution_count": null,
   "metadata": {},
   "outputs": [],
   "source": []
  },
  {
   "cell_type": "markdown",
   "metadata": {},
   "source": [
    "# Scrape Twitter API"
   ]
  },
  {
   "cell_type": "code",
   "execution_count": 38,
   "metadata": {},
   "outputs": [],
   "source": [
    "# Twitter api information \n",
    "# You can get the access token from your twitter developer account (https://developer.twitter.com/). \n",
    "# DO NOT SHARE YOUR ACCESS TOKEN WITH ANYONE.\n",
    "\n",
    "api_key =  '' #API key\n",
    "api_secret = '' #API secret\n",
    "access_token = '' #Access token\n",
    "access_secret = '' #API secret\n"
   ]
  },
  {
   "cell_type": "markdown",
   "metadata": {},
   "source": [
    "Let's scrape the twitter.com and look for tweets that contains the hashtag **#bancolombia**, for example."
   ]
  },
  {
   "cell_type": "markdown",
   "metadata": {},
   "source": [
    "#### NOTE: Run the below code ONLY the first time you access the notebook to install Tweepy. \n"
   ]
  },
  {
   "cell_type": "code",
   "execution_count": 39,
   "metadata": {},
   "outputs": [
    {
     "name": "stdout",
     "output_type": "stream",
     "text": [
      "Requirement already up-to-date: tweepy in /home/ec2-user/anaconda3/envs/python3/lib/python3.6/site-packages (3.8.0)\n",
      "Requirement already up-to-date: pip in /home/ec2-user/anaconda3/envs/python3/lib/python3.6/site-packages (20.1.1)\n",
      "Requirement already satisfied, skipping upgrade: PySocks>=1.5.7 in /home/ec2-user/anaconda3/envs/python3/lib/python3.6/site-packages (from tweepy) (1.6.8)\n",
      "Requirement already satisfied, skipping upgrade: six>=1.10.0 in /home/ec2-user/anaconda3/envs/python3/lib/python3.6/site-packages (from tweepy) (1.11.0)\n",
      "Requirement already satisfied, skipping upgrade: requests>=2.11.1 in /home/ec2-user/anaconda3/envs/python3/lib/python3.6/site-packages (from tweepy) (2.20.0)\n",
      "Requirement already satisfied, skipping upgrade: requests-oauthlib>=0.7.0 in /home/ec2-user/anaconda3/envs/python3/lib/python3.6/site-packages (from tweepy) (1.3.0)\n",
      "Requirement already satisfied, skipping upgrade: certifi>=2017.4.17 in /home/ec2-user/anaconda3/envs/python3/lib/python3.6/site-packages (from requests>=2.11.1->tweepy) (2019.11.28)\n",
      "Requirement already satisfied, skipping upgrade: idna<2.8,>=2.5 in /home/ec2-user/anaconda3/envs/python3/lib/python3.6/site-packages (from requests>=2.11.1->tweepy) (2.6)\n",
      "Requirement already satisfied, skipping upgrade: chardet<3.1.0,>=3.0.2 in /home/ec2-user/anaconda3/envs/python3/lib/python3.6/site-packages (from requests>=2.11.1->tweepy) (3.0.4)\n",
      "Requirement already satisfied, skipping upgrade: urllib3<1.25,>=1.21.1 in /home/ec2-user/anaconda3/envs/python3/lib/python3.6/site-packages (from requests>=2.11.1->tweepy) (1.23)\n",
      "Requirement already satisfied, skipping upgrade: oauthlib>=3.0.0 in /home/ec2-user/anaconda3/envs/python3/lib/python3.6/site-packages (from requests-oauthlib>=0.7.0->tweepy) (3.1.0)\n"
     ]
    }
   ],
   "source": [
    " !pip install tweepy --upgrade pip"
   ]
  },
  {
   "cell_type": "code",
   "execution_count": 40,
   "metadata": {},
   "outputs": [],
   "source": [
    "#Once installed you can directly import to use it.\n",
    "import tweepy\n",
    "\n",
    "auth = tweepy.OAuthHandler(api_key, api_secret)\n",
    "auth.set_access_token(access_token, access_secret)\n",
    "\n",
    "api = tweepy.API(auth)"
   ]
  },
  {
   "cell_type": "code",
   "execution_count": 41,
   "metadata": {},
   "outputs": [],
   "source": [
    "# Let's search for a tag\n",
    "\n",
    "tag = '#bancolombia' #Here's an example. You can change here the hastag you want to investigate. \n",
    "tweets = api.search(q=tag, count = 100)  # This limits the web scrapping. Refer pricing https://developer.twitter.com/en/pricing.html"
   ]
  },
  {
   "cell_type": "markdown",
   "metadata": {},
   "source": [
    "Let's see how a tweet look like! \n",
    "It will have tons of meta data along with the tweet itself. The metadata captures many valuable information about the user like: user account id, profile picture, profile description, location etc. \n"
   ]
  },
  {
   "cell_type": "code",
   "execution_count": 42,
   "metadata": {
    "scrolled": false
   },
   "outputs": [
    {
     "data": {
      "text/plain": [
       "Status(_api=<tweepy.api.API object at 0x7f29430d6f28>, _json={'created_at': 'Sun Jul 05 16:33:25 +0000 2020', 'id': 1279815659627728897, 'id_str': '1279815659627728897', 'text': 'Que bueno es escuchar cada vez más a grandes marcas en #Colombia como el Grupo #Bancolombia hablando de sus casos d… https://t.co/1XjR4ecnjb', 'truncated': True, 'entities': {'hashtags': [{'text': 'Colombia', 'indices': [55, 64]}, {'text': 'Bancolombia', 'indices': [79, 91]}], 'symbols': [], 'user_mentions': [], 'urls': [{'url': 'https://t.co/1XjR4ecnjb', 'expanded_url': 'https://twitter.com/i/web/status/1279815659627728897', 'display_url': 'twitter.com/i/web/status/1…', 'indices': [117, 140]}]}, 'metadata': {'iso_language_code': 'es', 'result_type': 'recent'}, 'source': '<a href=\"http://www.linkedin.com/\" rel=\"nofollow\">LinkedIn</a>', 'in_reply_to_status_id': None, 'in_reply_to_status_id_str': None, 'in_reply_to_user_id': None, 'in_reply_to_user_id_str': None, 'in_reply_to_screen_name': None, 'user': {'id': 12907942, 'id_str': '12907942', 'name': 'stibcasa', 'screen_name': 'stibcasa', 'location': '', 'description': 'ING Informático con Esp. en Desarrollo de Software y MBA con Esp. G-PYs. Apasionado de la Fotografía (https://t.co/U1FxkdihW4). Son mis opiniones', 'url': None, 'entities': {'description': {'urls': [{'url': 'https://t.co/U1FxkdihW4', 'expanded_url': 'http://www.instagram.com/stibcasa', 'display_url': 'instagram.com/stibcasa', 'indices': [102, 125]}]}}, 'protected': False, 'followers_count': 722, 'friends_count': 1209, 'listed_count': 53, 'created_at': 'Thu Jan 31 13:56:12 +0000 2008', 'favourites_count': 5534, 'utc_offset': None, 'time_zone': None, 'geo_enabled': True, 'verified': False, 'statuses_count': 10154, 'lang': None, 'contributors_enabled': False, 'is_translator': False, 'is_translation_enabled': False, 'profile_background_color': '1A1B1F', 'profile_background_image_url': 'http://abs.twimg.com/images/themes/theme9/bg.gif', 'profile_background_image_url_https': 'https://abs.twimg.com/images/themes/theme9/bg.gif', 'profile_background_tile': True, 'profile_image_url': 'http://pbs.twimg.com/profile_images/756992495205113857/HgbnAD7c_normal.jpg', 'profile_image_url_https': 'https://pbs.twimg.com/profile_images/756992495205113857/HgbnAD7c_normal.jpg', 'profile_banner_url': 'https://pbs.twimg.com/profile_banners/12907942/1566603410', 'profile_link_color': '3B94D9', 'profile_sidebar_border_color': '000000', 'profile_sidebar_fill_color': '252429', 'profile_text_color': '666666', 'profile_use_background_image': True, 'has_extended_profile': False, 'default_profile': False, 'default_profile_image': False, 'following': False, 'follow_request_sent': False, 'notifications': False, 'translator_type': 'none'}, 'geo': None, 'coordinates': None, 'place': None, 'contributors': None, 'is_quote_status': False, 'retweet_count': 0, 'favorite_count': 0, 'favorited': False, 'retweeted': False, 'possibly_sensitive': False, 'lang': 'es'}, created_at=datetime.datetime(2020, 7, 5, 16, 33, 25), id=1279815659627728897, id_str='1279815659627728897', text='Que bueno es escuchar cada vez más a grandes marcas en #Colombia como el Grupo #Bancolombia hablando de sus casos d… https://t.co/1XjR4ecnjb', truncated=True, entities={'hashtags': [{'text': 'Colombia', 'indices': [55, 64]}, {'text': 'Bancolombia', 'indices': [79, 91]}], 'symbols': [], 'user_mentions': [], 'urls': [{'url': 'https://t.co/1XjR4ecnjb', 'expanded_url': 'https://twitter.com/i/web/status/1279815659627728897', 'display_url': 'twitter.com/i/web/status/1…', 'indices': [117, 140]}]}, metadata={'iso_language_code': 'es', 'result_type': 'recent'}, source='LinkedIn', source_url='http://www.linkedin.com/', in_reply_to_status_id=None, in_reply_to_status_id_str=None, in_reply_to_user_id=None, in_reply_to_user_id_str=None, in_reply_to_screen_name=None, author=User(_api=<tweepy.api.API object at 0x7f29430d6f28>, _json={'id': 12907942, 'id_str': '12907942', 'name': 'stibcasa', 'screen_name': 'stibcasa', 'location': '', 'description': 'ING Informático con Esp. en Desarrollo de Software y MBA con Esp. G-PYs. Apasionado de la Fotografía (https://t.co/U1FxkdihW4). Son mis opiniones', 'url': None, 'entities': {'description': {'urls': [{'url': 'https://t.co/U1FxkdihW4', 'expanded_url': 'http://www.instagram.com/stibcasa', 'display_url': 'instagram.com/stibcasa', 'indices': [102, 125]}]}}, 'protected': False, 'followers_count': 722, 'friends_count': 1209, 'listed_count': 53, 'created_at': 'Thu Jan 31 13:56:12 +0000 2008', 'favourites_count': 5534, 'utc_offset': None, 'time_zone': None, 'geo_enabled': True, 'verified': False, 'statuses_count': 10154, 'lang': None, 'contributors_enabled': False, 'is_translator': False, 'is_translation_enabled': False, 'profile_background_color': '1A1B1F', 'profile_background_image_url': 'http://abs.twimg.com/images/themes/theme9/bg.gif', 'profile_background_image_url_https': 'https://abs.twimg.com/images/themes/theme9/bg.gif', 'profile_background_tile': True, 'profile_image_url': 'http://pbs.twimg.com/profile_images/756992495205113857/HgbnAD7c_normal.jpg', 'profile_image_url_https': 'https://pbs.twimg.com/profile_images/756992495205113857/HgbnAD7c_normal.jpg', 'profile_banner_url': 'https://pbs.twimg.com/profile_banners/12907942/1566603410', 'profile_link_color': '3B94D9', 'profile_sidebar_border_color': '000000', 'profile_sidebar_fill_color': '252429', 'profile_text_color': '666666', 'profile_use_background_image': True, 'has_extended_profile': False, 'default_profile': False, 'default_profile_image': False, 'following': False, 'follow_request_sent': False, 'notifications': False, 'translator_type': 'none'}, id=12907942, id_str='12907942', name='stibcasa', screen_name='stibcasa', location='', description='ING Informático con Esp. en Desarrollo de Software y MBA con Esp. G-PYs. Apasionado de la Fotografía (https://t.co/U1FxkdihW4). Son mis opiniones', url=None, entities={'description': {'urls': [{'url': 'https://t.co/U1FxkdihW4', 'expanded_url': 'http://www.instagram.com/stibcasa', 'display_url': 'instagram.com/stibcasa', 'indices': [102, 125]}]}}, protected=False, followers_count=722, friends_count=1209, listed_count=53, created_at=datetime.datetime(2008, 1, 31, 13, 56, 12), favourites_count=5534, utc_offset=None, time_zone=None, geo_enabled=True, verified=False, statuses_count=10154, lang=None, contributors_enabled=False, is_translator=False, is_translation_enabled=False, profile_background_color='1A1B1F', profile_background_image_url='http://abs.twimg.com/images/themes/theme9/bg.gif', profile_background_image_url_https='https://abs.twimg.com/images/themes/theme9/bg.gif', profile_background_tile=True, profile_image_url='http://pbs.twimg.com/profile_images/756992495205113857/HgbnAD7c_normal.jpg', profile_image_url_https='https://pbs.twimg.com/profile_images/756992495205113857/HgbnAD7c_normal.jpg', profile_banner_url='https://pbs.twimg.com/profile_banners/12907942/1566603410', profile_link_color='3B94D9', profile_sidebar_border_color='000000', profile_sidebar_fill_color='252429', profile_text_color='666666', profile_use_background_image=True, has_extended_profile=False, default_profile=False, default_profile_image=False, following=False, follow_request_sent=False, notifications=False, translator_type='none'), user=User(_api=<tweepy.api.API object at 0x7f29430d6f28>, _json={'id': 12907942, 'id_str': '12907942', 'name': 'stibcasa', 'screen_name': 'stibcasa', 'location': '', 'description': 'ING Informático con Esp. en Desarrollo de Software y MBA con Esp. G-PYs. Apasionado de la Fotografía (https://t.co/U1FxkdihW4). Son mis opiniones', 'url': None, 'entities': {'description': {'urls': [{'url': 'https://t.co/U1FxkdihW4', 'expanded_url': 'http://www.instagram.com/stibcasa', 'display_url': 'instagram.com/stibcasa', 'indices': [102, 125]}]}}, 'protected': False, 'followers_count': 722, 'friends_count': 1209, 'listed_count': 53, 'created_at': 'Thu Jan 31 13:56:12 +0000 2008', 'favourites_count': 5534, 'utc_offset': None, 'time_zone': None, 'geo_enabled': True, 'verified': False, 'statuses_count': 10154, 'lang': None, 'contributors_enabled': False, 'is_translator': False, 'is_translation_enabled': False, 'profile_background_color': '1A1B1F', 'profile_background_image_url': 'http://abs.twimg.com/images/themes/theme9/bg.gif', 'profile_background_image_url_https': 'https://abs.twimg.com/images/themes/theme9/bg.gif', 'profile_background_tile': True, 'profile_image_url': 'http://pbs.twimg.com/profile_images/756992495205113857/HgbnAD7c_normal.jpg', 'profile_image_url_https': 'https://pbs.twimg.com/profile_images/756992495205113857/HgbnAD7c_normal.jpg', 'profile_banner_url': 'https://pbs.twimg.com/profile_banners/12907942/1566603410', 'profile_link_color': '3B94D9', 'profile_sidebar_border_color': '000000', 'profile_sidebar_fill_color': '252429', 'profile_text_color': '666666', 'profile_use_background_image': True, 'has_extended_profile': False, 'default_profile': False, 'default_profile_image': False, 'following': False, 'follow_request_sent': False, 'notifications': False, 'translator_type': 'none'}, id=12907942, id_str='12907942', name='stibcasa', screen_name='stibcasa', location='', description='ING Informático con Esp. en Desarrollo de Software y MBA con Esp. G-PYs. Apasionado de la Fotografía (https://t.co/U1FxkdihW4). Son mis opiniones', url=None, entities={'description': {'urls': [{'url': 'https://t.co/U1FxkdihW4', 'expanded_url': 'http://www.instagram.com/stibcasa', 'display_url': 'instagram.com/stibcasa', 'indices': [102, 125]}]}}, protected=False, followers_count=722, friends_count=1209, listed_count=53, created_at=datetime.datetime(2008, 1, 31, 13, 56, 12), favourites_count=5534, utc_offset=None, time_zone=None, geo_enabled=True, verified=False, statuses_count=10154, lang=None, contributors_enabled=False, is_translator=False, is_translation_enabled=False, profile_background_color='1A1B1F', profile_background_image_url='http://abs.twimg.com/images/themes/theme9/bg.gif', profile_background_image_url_https='https://abs.twimg.com/images/themes/theme9/bg.gif', profile_background_tile=True, profile_image_url='http://pbs.twimg.com/profile_images/756992495205113857/HgbnAD7c_normal.jpg', profile_image_url_https='https://pbs.twimg.com/profile_images/756992495205113857/HgbnAD7c_normal.jpg', profile_banner_url='https://pbs.twimg.com/profile_banners/12907942/1566603410', profile_link_color='3B94D9', profile_sidebar_border_color='000000', profile_sidebar_fill_color='252429', profile_text_color='666666', profile_use_background_image=True, has_extended_profile=False, default_profile=False, default_profile_image=False, following=False, follow_request_sent=False, notifications=False, translator_type='none'), geo=None, coordinates=None, place=None, contributors=None, is_quote_status=False, retweet_count=0, favorite_count=0, favorited=False, retweeted=False, possibly_sensitive=False, lang='es')"
      ]
     },
     "execution_count": 42,
     "metadata": {},
     "output_type": "execute_result"
    }
   ],
   "source": [
    "tweets[0]"
   ]
  },
  {
   "cell_type": "markdown",
   "metadata": {},
   "source": [
    "From the metadata of the tweet, we could extract the required information eg: **description, location** etc.\n"
   ]
  },
  {
   "cell_type": "code",
   "execution_count": 43,
   "metadata": {},
   "outputs": [
    {
     "name": "stdout",
     "output_type": "stream",
     "text": [
      "author's profile description:  ING Informático con Esp. en Desarrollo de Software y MBA con Esp. G-PYs. Apasionado de la Fotografía (https://t.co/U1FxkdihW4). Son mis opiniones\n",
      "author's location:  \n",
      "author's tweet:  Que bueno es escuchar cada vez más a grandes marcas en #Colombia como el Grupo #Bancolombia hablando de sus casos d… https://t.co/1XjR4ecnjb\n",
      "Timestamp:  2020-07-05 16:33:25\n"
     ]
    }
   ],
   "source": [
    "print(\"author's profile description: \" , tweets[0].user.description)\n",
    "print(\"author's location: \", tweets[0].user.location)\n",
    "print(\"author's tweet: \", tweets[0].text)\n",
    "print(\"Timestamp: \", tweets[0].created_at)"
   ]
  },
  {
   "cell_type": "code",
   "execution_count": null,
   "metadata": {},
   "outputs": [],
   "source": []
  },
  {
   "cell_type": "markdown",
   "metadata": {},
   "source": [
    "### Extract tweet content and location from each tweet and analyze sentiment of the post."
   ]
  },
  {
   "cell_type": "code",
   "execution_count": 44,
   "metadata": {},
   "outputs": [],
   "source": [
    "# Let's extract sentiments using Amazon Comprehend API from each Tweet\n",
    "posts = []\n",
    "timestamp = []\n",
    "locations = []\n",
    "sentiments = []\n",
    "positive = []\n",
    "negative = []\n",
    "neutral = []\n",
    "\n",
    "for i in range(len(tweets)):\n",
    "    d = tweets[i].text\n",
    "    ts = tweets[i].created_at\n",
    "    l = tweets[i].user.location\n",
    "    \n",
    "    if d != '':\n",
    "        res = comprehend.detect_sentiment(Text=d, LanguageCode='en') #Connects to AWS Comprehend\n",
    "        s = res.get('Sentiment')\n",
    "        p = res.get('SentimentScore')['Positive']\n",
    "        neg = res.get('SentimentScore')['Negative']\n",
    "        neu = res.get('SentimentScore')['Neutral']\n",
    "    \n",
    "    timestamp.append(ts)\n",
    "    posts.append(d)\n",
    "    locations.append(l)\n",
    "    sentiments.append(s)\n",
    "    positive.append(p)\n",
    "    negative.append(neg)\n",
    "    neutral.append(neu) \n",
    "    \n"
   ]
  },
  {
   "cell_type": "markdown",
   "metadata": {},
   "source": [
    "### Build a dataframe to view the data in tabular form so that the information is easy to consume. "
   ]
  },
  {
   "cell_type": "code",
   "execution_count": 45,
   "metadata": {},
   "outputs": [],
   "source": [
    "import pandas as pd\n",
    "from collections import OrderedDict\n",
    "\n",
    "result = pd.DataFrame(OrderedDict( {\n",
    "            'tweets': posts\n",
    "         , 'location': pd.Series(locations).str.wrap(15)\n",
    "         , 'timestamp': timestamp\n",
    "         , 'sentiment': sentiments\n",
    "         , 'positiveScore': positive\n",
    "         , 'negativeScore': negative\n",
    "         , 'neutralScore' : neutral\n",
    "         }))"
   ]
  },
  {
   "cell_type": "code",
   "execution_count": 46,
   "metadata": {},
   "outputs": [
    {
     "data": {
      "text/html": [
       "<div>\n",
       "<style scoped>\n",
       "    .dataframe tbody tr th:only-of-type {\n",
       "        vertical-align: middle;\n",
       "    }\n",
       "\n",
       "    .dataframe tbody tr th {\n",
       "        vertical-align: top;\n",
       "    }\n",
       "\n",
       "    .dataframe thead th {\n",
       "        text-align: right;\n",
       "    }\n",
       "</style>\n",
       "<table border=\"1\" class=\"dataframe\">\n",
       "  <thead>\n",
       "    <tr style=\"text-align: right;\">\n",
       "      <th></th>\n",
       "      <th>tweets</th>\n",
       "      <th>location</th>\n",
       "      <th>timestamp</th>\n",
       "      <th>sentiment</th>\n",
       "      <th>positiveScore</th>\n",
       "      <th>negativeScore</th>\n",
       "      <th>neutralScore</th>\n",
       "    </tr>\n",
       "  </thead>\n",
       "  <tbody>\n",
       "    <tr>\n",
       "      <th>0</th>\n",
       "      <td>Que bueno es escuchar cada vez más a grandes m...</td>\n",
       "      <td></td>\n",
       "      <td>2020-07-05 16:33:25</td>\n",
       "      <td>POSITIVE</td>\n",
       "      <td>0.758265</td>\n",
       "      <td>0.026999</td>\n",
       "      <td>0.214699</td>\n",
       "    </tr>\n",
       "    <tr>\n",
       "      <th>1</th>\n",
       "      <td>RT @hogar_abuelitos: Ayúdanos a ayudar, 24 Abu...</td>\n",
       "      <td>Vitoria-Gasteiz\\n- País Vasco</td>\n",
       "      <td>2020-07-05 12:24:45</td>\n",
       "      <td>NEUTRAL</td>\n",
       "      <td>0.203069</td>\n",
       "      <td>0.026190</td>\n",
       "      <td>0.770730</td>\n",
       "    </tr>\n",
       "    <tr>\n",
       "      <th>2</th>\n",
       "      <td>RT @hogar_abuelitos: Ayúdanos a ayudar, 24 Abu...</td>\n",
       "      <td>Vitoria-Gasteiz\\n- País Vasco</td>\n",
       "      <td>2020-07-05 12:24:38</td>\n",
       "      <td>NEUTRAL</td>\n",
       "      <td>0.430123</td>\n",
       "      <td>0.014700</td>\n",
       "      <td>0.555164</td>\n",
       "    </tr>\n",
       "    <tr>\n",
       "      <th>3</th>\n",
       "      <td>Ya #bancolombia me cobra de nuevo la cuota del...</td>\n",
       "      <td>@carlosfernando\\nposadat</td>\n",
       "      <td>2020-07-05 01:48:21</td>\n",
       "      <td>NEUTRAL</td>\n",
       "      <td>0.373988</td>\n",
       "      <td>0.006424</td>\n",
       "      <td>0.619572</td>\n",
       "    </tr>\n",
       "    <tr>\n",
       "      <th>4</th>\n",
       "      <td>@diegoamoreno04 @larepublica_co @Bancolombia @...</td>\n",
       "      <td></td>\n",
       "      <td>2020-07-04 20:23:31</td>\n",
       "      <td>NEUTRAL</td>\n",
       "      <td>0.091123</td>\n",
       "      <td>0.184147</td>\n",
       "      <td>0.724692</td>\n",
       "    </tr>\n",
       "  </tbody>\n",
       "</table>\n",
       "</div>"
      ],
      "text/plain": [
       "                                              tweets  \\\n",
       "0  Que bueno es escuchar cada vez más a grandes m...   \n",
       "1  RT @hogar_abuelitos: Ayúdanos a ayudar, 24 Abu...   \n",
       "2  RT @hogar_abuelitos: Ayúdanos a ayudar, 24 Abu...   \n",
       "3  Ya #bancolombia me cobra de nuevo la cuota del...   \n",
       "4  @diegoamoreno04 @larepublica_co @Bancolombia @...   \n",
       "\n",
       "                        location           timestamp sentiment  positiveScore  \\\n",
       "0                                2020-07-05 16:33:25  POSITIVE       0.758265   \n",
       "1  Vitoria-Gasteiz\\n- País Vasco 2020-07-05 12:24:45   NEUTRAL       0.203069   \n",
       "2  Vitoria-Gasteiz\\n- País Vasco 2020-07-05 12:24:38   NEUTRAL       0.430123   \n",
       "3       @carlosfernando\\nposadat 2020-07-05 01:48:21   NEUTRAL       0.373988   \n",
       "4                                2020-07-04 20:23:31   NEUTRAL       0.091123   \n",
       "\n",
       "   negativeScore  neutralScore  \n",
       "0       0.026999      0.214699  \n",
       "1       0.026190      0.770730  \n",
       "2       0.014700      0.555164  \n",
       "3       0.006424      0.619572  \n",
       "4       0.184147      0.724692  "
      ]
     },
     "execution_count": 46,
     "metadata": {},
     "output_type": "execute_result"
    }
   ],
   "source": [
    "# Display first rows\n",
    "result.head()"
   ]
  },
  {
   "cell_type": "code",
   "execution_count": 47,
   "metadata": {},
   "outputs": [
    {
     "data": {
      "text/plain": [
       "tweets           0\n",
       "location         0\n",
       "timestamp        0\n",
       "sentiment        0\n",
       "positiveScore    0\n",
       "negativeScore    0\n",
       "neutralScore     0\n",
       "dtype: int64"
      ]
     },
     "execution_count": 47,
     "metadata": {},
     "output_type": "execute_result"
    }
   ],
   "source": [
    "# Check null values \n",
    "result.isnull().sum()"
   ]
  },
  {
   "cell_type": "code",
   "execution_count": 57,
   "metadata": {
    "scrolled": false
   },
   "outputs": [
    {
     "data": {
      "text/html": [
       "<div>\n",
       "<style scoped>\n",
       "    .dataframe tbody tr th:only-of-type {\n",
       "        vertical-align: middle;\n",
       "    }\n",
       "\n",
       "    .dataframe tbody tr th {\n",
       "        vertical-align: top;\n",
       "    }\n",
       "\n",
       "    .dataframe thead th {\n",
       "        text-align: right;\n",
       "    }\n",
       "</style>\n",
       "<table border=\"1\" class=\"dataframe\">\n",
       "  <thead>\n",
       "    <tr style=\"text-align: right;\">\n",
       "      <th></th>\n",
       "      <th>tweets</th>\n",
       "      <th>location</th>\n",
       "      <th>timestamp</th>\n",
       "      <th>sentiment</th>\n",
       "      <th>positiveScore</th>\n",
       "      <th>negativeScore</th>\n",
       "      <th>neutralScore</th>\n",
       "    </tr>\n",
       "  </thead>\n",
       "  <tbody>\n",
       "    <tr>\n",
       "      <th>0</th>\n",
       "      <td>Que bueno es escuchar cada vez más a grandes m...</td>\n",
       "      <td></td>\n",
       "      <td>2020-07-05 16:33:25</td>\n",
       "      <td>POSITIVE</td>\n",
       "      <td>0.758265</td>\n",
       "      <td>0.026999</td>\n",
       "      <td>0.214699</td>\n",
       "    </tr>\n",
       "    <tr>\n",
       "      <th>1</th>\n",
       "      <td>RT @hogar_abuelitos: Ayúdanos a ayudar, 24 Abu...</td>\n",
       "      <td>Vitoria-Gasteiz\\n- País Vasco</td>\n",
       "      <td>2020-07-05 12:24:45</td>\n",
       "      <td>NEUTRAL</td>\n",
       "      <td>0.203069</td>\n",
       "      <td>0.026190</td>\n",
       "      <td>0.770730</td>\n",
       "    </tr>\n",
       "    <tr>\n",
       "      <th>2</th>\n",
       "      <td>RT @hogar_abuelitos: Ayúdanos a ayudar, 24 Abu...</td>\n",
       "      <td>Vitoria-Gasteiz\\n- País Vasco</td>\n",
       "      <td>2020-07-05 12:24:38</td>\n",
       "      <td>NEUTRAL</td>\n",
       "      <td>0.430123</td>\n",
       "      <td>0.014700</td>\n",
       "      <td>0.555164</td>\n",
       "    </tr>\n",
       "    <tr>\n",
       "      <th>3</th>\n",
       "      <td>Ya #bancolombia me cobra de nuevo la cuota del...</td>\n",
       "      <td>@carlosfernando\\nposadat</td>\n",
       "      <td>2020-07-05 01:48:21</td>\n",
       "      <td>NEUTRAL</td>\n",
       "      <td>0.373988</td>\n",
       "      <td>0.006424</td>\n",
       "      <td>0.619572</td>\n",
       "    </tr>\n",
       "    <tr>\n",
       "      <th>4</th>\n",
       "      <td>@diegoamoreno04 @larepublica_co @Bancolombia @...</td>\n",
       "      <td></td>\n",
       "      <td>2020-07-04 20:23:31</td>\n",
       "      <td>NEUTRAL</td>\n",
       "      <td>0.091123</td>\n",
       "      <td>0.184147</td>\n",
       "      <td>0.724692</td>\n",
       "    </tr>\n",
       "  </tbody>\n",
       "</table>\n",
       "</div>"
      ],
      "text/plain": [
       "                                              tweets  \\\n",
       "0  Que bueno es escuchar cada vez más a grandes m...   \n",
       "1  RT @hogar_abuelitos: Ayúdanos a ayudar, 24 Abu...   \n",
       "2  RT @hogar_abuelitos: Ayúdanos a ayudar, 24 Abu...   \n",
       "3  Ya #bancolombia me cobra de nuevo la cuota del...   \n",
       "4  @diegoamoreno04 @larepublica_co @Bancolombia @...   \n",
       "\n",
       "                        location           timestamp sentiment  positiveScore  \\\n",
       "0                                2020-07-05 16:33:25  POSITIVE       0.758265   \n",
       "1  Vitoria-Gasteiz\\n- País Vasco 2020-07-05 12:24:45   NEUTRAL       0.203069   \n",
       "2  Vitoria-Gasteiz\\n- País Vasco 2020-07-05 12:24:38   NEUTRAL       0.430123   \n",
       "3       @carlosfernando\\nposadat 2020-07-05 01:48:21   NEUTRAL       0.373988   \n",
       "4                                2020-07-04 20:23:31   NEUTRAL       0.091123   \n",
       "\n",
       "   negativeScore  neutralScore  \n",
       "0       0.026999      0.214699  \n",
       "1       0.026190      0.770730  \n",
       "2       0.014700      0.555164  \n",
       "3       0.006424      0.619572  \n",
       "4       0.184147      0.724692  "
      ]
     },
     "execution_count": 57,
     "metadata": {},
     "output_type": "execute_result"
    }
   ],
   "source": [
    "# Delete rows with null values\n",
    "result.dropna(axis=0)\n",
    "result.head()"
   ]
  },
  {
   "cell_type": "code",
   "execution_count": null,
   "metadata": {},
   "outputs": [],
   "source": []
  },
  {
   "cell_type": "markdown",
   "metadata": {},
   "source": [
    "### Statistics "
   ]
  },
  {
   "cell_type": "code",
   "execution_count": 49,
   "metadata": {},
   "outputs": [
    {
     "data": {
      "text/plain": [
       "positiveScore    0.126079\n",
       "negativeScore    0.374257\n",
       "neutralScore     0.486181\n",
       "dtype: float64"
      ]
     },
     "execution_count": 49,
     "metadata": {},
     "output_type": "execute_result"
    }
   ],
   "source": [
    "# Mean\n",
    "result.mean()"
   ]
  },
  {
   "cell_type": "code",
   "execution_count": 50,
   "metadata": {},
   "outputs": [
    {
     "data": {
      "text/plain": [
       "positiveScore    0.227420\n",
       "negativeScore    0.389013\n",
       "neutralScore     0.352415\n",
       "dtype: float64"
      ]
     },
     "execution_count": 50,
     "metadata": {},
     "output_type": "execute_result"
    }
   ],
   "source": [
    "# Desviation standar\n",
    "result.std()"
   ]
  },
  {
   "cell_type": "code",
   "execution_count": 51,
   "metadata": {
    "scrolled": false
   },
   "outputs": [
    {
     "data": {
      "text/html": [
       "<div>\n",
       "<style scoped>\n",
       "    .dataframe tbody tr th:only-of-type {\n",
       "        vertical-align: middle;\n",
       "    }\n",
       "\n",
       "    .dataframe tbody tr th {\n",
       "        vertical-align: top;\n",
       "    }\n",
       "\n",
       "    .dataframe thead th {\n",
       "        text-align: right;\n",
       "    }\n",
       "</style>\n",
       "<table border=\"1\" class=\"dataframe\">\n",
       "  <thead>\n",
       "    <tr style=\"text-align: right;\">\n",
       "      <th></th>\n",
       "      <th>positiveScore</th>\n",
       "      <th>negativeScore</th>\n",
       "      <th>neutralScore</th>\n",
       "    </tr>\n",
       "  </thead>\n",
       "  <tbody>\n",
       "    <tr>\n",
       "      <th>count</th>\n",
       "      <td>45.000000</td>\n",
       "      <td>45.000000</td>\n",
       "      <td>45.000000</td>\n",
       "    </tr>\n",
       "    <tr>\n",
       "      <th>mean</th>\n",
       "      <td>0.126079</td>\n",
       "      <td>0.374257</td>\n",
       "      <td>0.486181</td>\n",
       "    </tr>\n",
       "    <tr>\n",
       "      <th>std</th>\n",
       "      <td>0.227420</td>\n",
       "      <td>0.389013</td>\n",
       "      <td>0.352415</td>\n",
       "    </tr>\n",
       "    <tr>\n",
       "      <th>min</th>\n",
       "      <td>0.000091</td>\n",
       "      <td>0.000063</td>\n",
       "      <td>0.017035</td>\n",
       "    </tr>\n",
       "    <tr>\n",
       "      <th>25%</th>\n",
       "      <td>0.002784</td>\n",
       "      <td>0.018085</td>\n",
       "      <td>0.152461</td>\n",
       "    </tr>\n",
       "    <tr>\n",
       "      <th>50%</th>\n",
       "      <td>0.009615</td>\n",
       "      <td>0.184147</td>\n",
       "      <td>0.504587</td>\n",
       "    </tr>\n",
       "    <tr>\n",
       "      <th>75%</th>\n",
       "      <td>0.147081</td>\n",
       "      <td>0.845264</td>\n",
       "      <td>0.798434</td>\n",
       "    </tr>\n",
       "    <tr>\n",
       "      <th>max</th>\n",
       "      <td>0.787369</td>\n",
       "      <td>0.982872</td>\n",
       "      <td>0.999806</td>\n",
       "    </tr>\n",
       "  </tbody>\n",
       "</table>\n",
       "</div>"
      ],
      "text/plain": [
       "       positiveScore  negativeScore  neutralScore\n",
       "count      45.000000      45.000000     45.000000\n",
       "mean        0.126079       0.374257      0.486181\n",
       "std         0.227420       0.389013      0.352415\n",
       "min         0.000091       0.000063      0.017035\n",
       "25%         0.002784       0.018085      0.152461\n",
       "50%         0.009615       0.184147      0.504587\n",
       "75%         0.147081       0.845264      0.798434\n",
       "max         0.787369       0.982872      0.999806"
      ]
     },
     "execution_count": 51,
     "metadata": {},
     "output_type": "execute_result"
    }
   ],
   "source": [
    "# Summary statistics \n",
    "result.describe()"
   ]
  },
  {
   "cell_type": "code",
   "execution_count": 52,
   "metadata": {},
   "outputs": [],
   "source": [
    "#Save to csv\n",
    "result.to_csv('bancolombia-analysis.csv')"
   ]
  },
  {
   "cell_type": "markdown",
   "metadata": {},
   "source": [
    "We could perform exploratory data analysis on the result dataset to know which location generated more negative        sentiment, which location generated most tweets, does a certain time of the day generates more negative sentiment etc."
   ]
  },
  {
   "cell_type": "code",
   "execution_count": 53,
   "metadata": {},
   "outputs": [
    {
     "name": "stdout",
     "output_type": "stream",
     "text": [
      "Locations that generated positive sentiments in the descending order: \n"
     ]
    },
    {
     "data": {
      "text/plain": [
       "location\n",
       "Bogotá, D.C.,\\nColombia          0.787369\n",
       "Cali, Colombia                   0.729407\n",
       "@carlosfernando\\nposadat         0.373988\n",
       "Chaparral,\\nTolima               0.327975\n",
       "Vitoria-Gasteiz\\n- País Vasco    0.316596\n",
       "MADRID, ESPAÑA                   0.222527\n",
       "mas caleña q el\\nchontaduro      0.147081\n",
       "                                 0.108228\n",
       "Cúcuta                           0.099056\n",
       "Bogotá,\\nColombia                0.061338\n",
       "📍Colombia                        0.044267\n",
       "COLOMBIA                         0.007085\n",
       "Barranquilla,\\nColombia          0.006885\n",
       "#Colombia                        0.006754\n",
       "Medellín,\\nColombia              0.005673\n",
       "Bogota                           0.004743\n",
       "Valledupar -\\nColombia           0.004351\n",
       "Medellín                         0.004234\n",
       "Colombia                         0.002161\n",
       "Name: positiveScore, dtype: float64"
      ]
     },
     "execution_count": 53,
     "metadata": {},
     "output_type": "execute_result"
    }
   ],
   "source": [
    "print(\"Locations that generated positive sentiments in the descending order: \")\n",
    "result.groupby(by='location')['positiveScore'].mean().sort_values(ascending=False)\n"
   ]
  },
  {
   "cell_type": "code",
   "execution_count": 54,
   "metadata": {
    "scrolled": true
   },
   "outputs": [
    {
     "data": {
      "text/plain": [
       "location\n",
       "                                 17\n",
       "📍Colombia                         4\n",
       "Colombia                          3\n",
       "Bogotá,\\nColombia                 3\n",
       "Vitoria-Gasteiz\\n- País Vasco     2\n",
       "#Colombia                         2\n",
       "Cúcuta                            2\n",
       "Bogotá, D.C.,\\nColombia           1\n",
       "@carlosfernando\\nposadat          1\n",
       "Barranquilla,\\nColombia           1\n",
       "Bogota                            1\n",
       "Cali, Colombia                    1\n",
       "COLOMBIA                          1\n",
       "Valledupar -\\nColombia            1\n",
       "mas caleña q el\\nchontaduro       1\n",
       "MADRID, ESPAÑA                    1\n",
       "Medellín                          1\n",
       "Medellín,\\nColombia               1\n",
       "Chaparral,\\nTolima                1\n",
       "Name: tweets, dtype: int64"
      ]
     },
     "execution_count": 54,
     "metadata": {},
     "output_type": "execute_result"
    }
   ],
   "source": [
    "result.groupby(by='location', sort = True)['tweets'].count().sort_values(ascending=False)"
   ]
  },
  {
   "cell_type": "code",
   "execution_count": 55,
   "metadata": {},
   "outputs": [
    {
     "data": {
      "text/plain": [
       "0    Que bueno es escuchar cada vez más a grandes m...\n",
       "1    RT @hogar_abuelitos: Ayúdanos a ayudar, 24 Abu...\n",
       "2    RT @hogar_abuelitos: Ayúdanos a ayudar, 24 Abu...\n",
       "3    Ya #bancolombia me cobra de nuevo la cuota del...\n",
       "4    @diegoamoreno04 @larepublica_co @Bancolombia @...\n",
       "Name: tweets, dtype: object"
      ]
     },
     "execution_count": 55,
     "metadata": {},
     "output_type": "execute_result"
    }
   ],
   "source": [
    "# Save only the tweets to a dataframe\n",
    "df = result['tweets']\n",
    "df.head()"
   ]
  },
  {
   "cell_type": "markdown",
   "metadata": {},
   "source": [
    "#### Upload the data to S3 on AWS"
   ]
  },
  {
   "cell_type": "code",
   "execution_count": 56,
   "metadata": {},
   "outputs": [],
   "source": [
    "from io import StringIO\n",
    "import boto3\n",
    "\n",
    "def write_pd_s3_csv(df, bucket, filepath):\n",
    "    csv_buffer = StringIO()\n",
    "    df.to_csv(csv_buffer)\n",
    "    s3_resource = boto3.resource('s3')\n",
    "    s3_resource.Object(bucket, filepath).put(Body=csv_buffer.getvalue())\n",
    "    print(\"The data is successfully written to S3 path:\", bucket+\"/\"+filepath)\n",
    "\n",
    "    \n",
    "s3_bucket =  '' # bucket name\n",
    "file_path = '' #File path for save on bucket\n",
    "write_pd_s3_csv(df, s3_bucket, file_path)"
   ]
  },
  {
   "cell_type": "code",
   "execution_count": null,
   "metadata": {},
   "outputs": [],
   "source": []
  },
  {
   "cell_type": "markdown",
   "metadata": {},
   "source": [
    "### REFERENCES\n",
    "[1] Domo.com. 2020. Domo Resource - Data Never Sleeps 7.0. [online] Available at: <https://www.domo.com/learn/data-never-sleeps-7> [Accessed 28 June 2020]. \n",
    "\n",
    "[2] M. Pejić Bach, Ž. Krstić, S. Seljan and L. Turulja, \"Text Mining for Big Data Analysis in Financial Sector: A Literature Review\", Sustainability, vol. 11, no. 5, p. 1277, 2019. Available: 10.3390/su11051277 [Accessed 26 June 2020].\n",
    "\n",
    "[3] \"Amazon Comprehend - Natural Language Processing (NLP) and Machine Learning (ML)\", Amazon Web Services, Inc., 2020. [Online]. Available: https://aws.amazon.com/comprehend/?nc1=h_ls. [Accessed: 27- Jun- 2020].\n",
    "\n",
    "[4] \"Analyze content with Amazon Comprehend and Amazon SageMaker notebooks | Amazon Web Services\", Amazon Web Services, 2020. [Online]. Available: https://aws.amazon.com/blogs/machine-learning/analyze-content-with-amazon-comprehend-and-amazon-sagemaker-notebooks/. [Accessed: 27- Jun- 2020].\n"
   ]
  }
 ],
 "metadata": {
  "kernelspec": {
   "display_name": "conda_python3",
   "language": "python",
   "name": "conda_python3"
  },
  "language_info": {
   "codemirror_mode": {
    "name": "ipython",
    "version": 3
   },
   "file_extension": ".py",
   "mimetype": "text/x-python",
   "name": "python",
   "nbconvert_exporter": "python",
   "pygments_lexer": "ipython3",
   "version": "3.6.5"
  }
 },
 "nbformat": 4,
 "nbformat_minor": 2
}
